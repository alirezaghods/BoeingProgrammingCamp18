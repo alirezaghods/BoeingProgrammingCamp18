{
 "cells": [
  {
   "cell_type": "markdown",
   "metadata": {},
   "source": [
    "<img src = 'files/images/WSU-Central_Social-Badge.png'>\n",
    "\n",
    "\n",
    "# Boeing Programming Camp\n",
    "\n",
    "### Day 4\n",
    "\n",
    "### We are going to solve more problem\n",
    "\n",
    "Keep in mind that no single lecture (or course!) can teach you how to code. We weould highly suggest reading [How to Think Like a Computer Scientist: Learning with Python 3 Documentation](https://media.readthedocs.org/pdf/howtothink/latest/howtothink.pdf) textbook for more information!"
   ]
  },
  {
   "cell_type": "code",
   "execution_count": 3,
   "metadata": {},
   "outputs": [],
   "source": [
    "import numpy\n",
    "from mobilechelonian import Turtle\n",
    "import math"
   ]
  },
  {
   "cell_type": "markdown",
   "metadata": {},
   "source": [
    "## Problem 1"
   ]
  },
  {
   "cell_type": "markdown",
   "metadata": {},
   "source": [
    "Write a function to return hundreds, tens, and ones of a three digit number. For example, for 345, your function should return:\n",
    "\n",
    "hundereds = 3\n",
    "\n",
    "tens = 4\n",
    "\n",
    "ones = 5"
   ]
  },
  {
   "cell_type": "code",
   "execution_count": null,
   "metadata": {},
   "outputs": [],
   "source": [
    "def decompose(x):\n",
    "    \n",
    "    \n",
    "    \n",
    "    \n",
    "    \n",
    "    \n",
    "    \n",
    "    \n",
    "    \n",
    "    \n",
    "    "
   ]
  },
  {
   "cell_type": "code",
   "execution_count": null,
   "metadata": {},
   "outputs": [],
   "source": [
    "decompose(123)"
   ]
  },
  {
   "cell_type": "code",
   "execution_count": null,
   "metadata": {},
   "outputs": [],
   "source": [
    "decompose(563)"
   ]
  },
  {
   "cell_type": "code",
   "execution_count": null,
   "metadata": {},
   "outputs": [],
   "source": [
    "decompose(893)"
   ]
  },
  {
   "cell_type": "markdown",
   "metadata": {},
   "source": [
    "## Problem 2\n",
    "\n",
    "Get N names from users, append the names to a list and pick two winners for a big lottery."
   ]
  },
  {
   "cell_type": "code",
   "execution_count": null,
   "metadata": {},
   "outputs": [],
   "source": [
    "def lottery(N): \n",
    "\n",
    "\n",
    "\n",
    "\n",
    "    \n",
    "    \n",
    "    \n",
    "    \n",
    "\n"
   ]
  },
  {
   "cell_type": "code",
   "execution_count": null,
   "metadata": {},
   "outputs": [],
   "source": []
  },
  {
   "cell_type": "code",
   "execution_count": null,
   "metadata": {},
   "outputs": [],
   "source": []
  },
  {
   "cell_type": "code",
   "execution_count": null,
   "metadata": {},
   "outputs": [],
   "source": []
  },
  {
   "cell_type": "markdown",
   "metadata": {},
   "source": [
    "## Problem-3   Three-dice!\n",
    "\n"
   ]
  },
  {
   "cell_type": "markdown",
   "metadata": {},
   "source": [
    "### Step1:\n",
    "Write a function 'roll' that rolls a die, returning a value 1-6"
   ]
  },
  {
   "cell_type": "code",
   "execution_count": null,
   "metadata": {},
   "outputs": [],
   "source": [
    "\n",
    "\n",
    "\n",
    "\n",
    "\n",
    "\n",
    "\n",
    "\n",
    "\n"
   ]
  },
  {
   "cell_type": "markdown",
   "metadata": {},
   "source": [
    "### Step 2:\n",
    "Call 'roll' function 3 times, storing the results in 3 different variables. This represents rolling 3 dice."
   ]
  },
  {
   "cell_type": "code",
   "execution_count": null,
   "metadata": {},
   "outputs": [],
   "source": []
  },
  {
   "cell_type": "code",
   "execution_count": null,
   "metadata": {},
   "outputs": [],
   "source": []
  },
  {
   "cell_type": "code",
   "execution_count": null,
   "metadata": {},
   "outputs": [],
   "source": []
  },
  {
   "cell_type": "markdown",
   "metadata": {},
   "source": [
    "### Step 3:\n",
    "Calculate the sum of the three dice rolls and append it to a list"
   ]
  },
  {
   "cell_type": "code",
   "execution_count": null,
   "metadata": {},
   "outputs": [],
   "source": []
  },
  {
   "cell_type": "code",
   "execution_count": null,
   "metadata": {},
   "outputs": [],
   "source": []
  },
  {
   "cell_type": "markdown",
   "metadata": {},
   "source": [
    "### Step 4:\n",
    "Encapsulate this algorithm in a loop that repeats 10,000 times"
   ]
  },
  {
   "cell_type": "code",
   "execution_count": null,
   "metadata": {},
   "outputs": [],
   "source": [
    "\n",
    "\n",
    "\n",
    "\n",
    "\n",
    "\n",
    "\n",
    "\n"
   ]
  },
  {
   "cell_type": "markdown",
   "metadata": {},
   "source": [
    "### Question1: \n",
    "What is the probability that the sum of the three dice is larger than 12 but less than 18?\n"
   ]
  },
  {
   "cell_type": "code",
   "execution_count": null,
   "metadata": {},
   "outputs": [],
   "source": [
    "\n",
    "\n",
    "\n",
    "\n",
    "\n",
    "\n",
    "\n",
    "\n",
    "\n"
   ]
  },
  {
   "cell_type": "code",
   "execution_count": null,
   "metadata": {},
   "outputs": [],
   "source": [
    "\n",
    "\n",
    "\n"
   ]
  },
  {
   "cell_type": "code",
   "execution_count": null,
   "metadata": {},
   "outputs": [],
   "source": [
    "\n",
    "\n",
    "\n",
    "\n"
   ]
  },
  {
   "cell_type": "markdown",
   "metadata": {},
   "source": [
    "### Question 2: \n",
    "What is the probability that the mean of the three dice rolls is exactly 4?"
   ]
  },
  {
   "cell_type": "code",
   "execution_count": null,
   "metadata": {},
   "outputs": [],
   "source": [
    "\n",
    "\n",
    "\n",
    "\n",
    "\n"
   ]
  },
  {
   "cell_type": "code",
   "execution_count": null,
   "metadata": {},
   "outputs": [],
   "source": [
    "\n",
    "\n",
    "\n",
    "\n"
   ]
  },
  {
   "cell_type": "code",
   "execution_count": null,
   "metadata": {},
   "outputs": [],
   "source": [
    "\n",
    "\n",
    "\n",
    "\n"
   ]
  },
  {
   "cell_type": "markdown",
   "metadata": {},
   "source": [
    "##  Problem-2   PIZZA!!!"
   ]
  },
  {
   "cell_type": "markdown",
   "metadata": {},
   "source": [
    "### Step-1:\n",
    "Declare an empty list."
   ]
  },
  {
   "cell_type": "code",
   "execution_count": null,
   "metadata": {},
   "outputs": [],
   "source": []
  },
  {
   "cell_type": "markdown",
   "metadata": {},
   "source": [
    "### Step-2:\n",
    "Write a function add_topping that asks a user for a topping and appends the topping to the list"
   ]
  },
  {
   "cell_type": "code",
   "execution_count": null,
   "metadata": {},
   "outputs": [],
   "source": [
    "\n",
    "\n",
    "\n",
    "\n",
    "\n",
    "\n"
   ]
  },
  {
   "cell_type": "markdown",
   "metadata": {},
   "source": [
    "### Step-3:\n",
    "\n",
    "Write a function calculate_cost that calculates the value of the pizza.  Base pizzas are worth $5.  Toppings add value to the pizza at the rate of 10 cents per letter in their name.  For instance, pineapple costs 90 cents.  Olives cost 60 cents."
   ]
  },
  {
   "cell_type": "code",
   "execution_count": null,
   "metadata": {},
   "outputs": [],
   "source": [
    "\n",
    "\n",
    "\n",
    "\n",
    "\n",
    "\n"
   ]
  },
  {
   "cell_type": "markdown",
   "metadata": {},
   "source": [
    "### Step-4:\n",
    "Get input from the user, asking whether they want to add a topping, or calculate the cost of their pizza."
   ]
  },
  {
   "cell_type": "code",
   "execution_count": null,
   "metadata": {},
   "outputs": [],
   "source": [
    "\n",
    "\n",
    "\n",
    "\n",
    "\n",
    "\n",
    "\n"
   ]
  },
  {
   "cell_type": "markdown",
   "metadata": {},
   "source": [
    "## Snack Time !!!\n",
    "\n",
    "<img src=\"files/images/21.png\">"
   ]
  },
  {
   "cell_type": "markdown",
   "metadata": {},
   "source": [
    "##  Our first turtle program"
   ]
  },
  {
   "cell_type": "code",
   "execution_count": 13,
   "metadata": {},
   "outputs": [
    {
     "data": {
      "application/vnd.jupyter.widget-view+json": {
       "model_id": "f56d556425f54c9c9649b961e40eb415",
       "version_major": 2,
       "version_minor": 0
      },
      "text/plain": [
       "Turtle()"
      ]
     },
     "metadata": {},
     "output_type": "display_data"
    }
   ],
   "source": [
    "alex = Turtle()  # Create a turtle, assign to alex\n",
    "alex.forward(50)        # Tell alex to move forward by 50 units\n",
    "alex.left(90)           # Tell alex to turn by 90 degrees\n",
    "alex.forward(30)        # Complete the second side of a rectangle"
   ]
  },
  {
   "cell_type": "code",
   "execution_count": 5,
   "metadata": {},
   "outputs": [
    {
     "data": {
      "application/vnd.jupyter.widget-view+json": {
       "model_id": "2b2d6b5c012c4ec09bd151091f808e1d",
       "version_major": 2,
       "version_minor": 0
      },
      "text/plain": [
       "Turtle()"
      ]
     },
     "metadata": {},
     "output_type": "display_data"
    }
   ],
   "source": [
    "jake = Turtle()  # Create a turtle, assign to jake\n",
    "jake.pencolor(\"red\")\n",
    "jake.forward(50)        # Tell alex to move forward by 50 units\n",
    "jake.right(90)           # Tell alex to turn by 90 degrees"
   ]
  },
  {
   "cell_type": "code",
   "execution_count": 6,
   "metadata": {},
   "outputs": [
    {
     "data": {
      "application/vnd.jupyter.widget-view+json": {
       "model_id": "f47066c84a29482b8064555244c29e64",
       "version_major": 2,
       "version_minor": 0
      },
      "text/plain": [
       "Turtle()"
      ]
     },
     "metadata": {},
     "output_type": "display_data"
    }
   ],
   "source": [
    "t = Turtle()\n",
    "t.speed(5)\n",
    "colours=[\"red\",\"blue\",\"yellow\",\"brown\",\"black\",\"purple\",\"green\"]\n",
    "t.penup(); t.left(90); t.forward(200);t.right(90);t.pendown()\n",
    "\n",
    "n = 0\n",
    "while n < 18:\n",
    "    t.pencolor(colours[n%7])\n",
    "    t.right(20)\n",
    "    t.forward(50)\n",
    "    n = n+1\n",
    "\n",
    "t.right(180)\n",
    "t.home()"
   ]
  },
  {
   "cell_type": "code",
   "execution_count": 7,
   "metadata": {},
   "outputs": [
    {
     "data": {
      "application/vnd.jupyter.widget-view+json": {
       "model_id": "4e42c27e0fc34dc297c2ea097a095cdc",
       "version_major": 2,
       "version_minor": 0
      },
      "text/plain": [
       "Turtle()"
      ]
     },
     "metadata": {},
     "output_type": "display_data"
    }
   ],
   "source": [
    "def draw_multicolor_square(animal, size):\n",
    "    \"\"\"Make animal draw a multi-color square of given size.\"\"\"\n",
    "    colors = [\"red\", \"purple\", \"hotpink\", \"blue\"]\n",
    "    for color in col:\n",
    "        animal.pencolor(color)\n",
    "        animal.forward(size)\n",
    "        animal.left(90)\n",
    "        \n",
    "tess = Turtle()\n",
    "tess.speed(5)\n",
    "size = 20       # Size of the smallest square\n",
    "n = 0\n",
    "while n < 15:\n",
    "    draw_multicolor_square(tess, size)    \n",
    "    size += 10       # Increase the size for next time\n",
    "    tess.forward(10)    # Move tess along a little\n",
    "    tess.right(18)      # and give her some turn\n",
    "    n = n + 1\n",
    "    "
   ]
  },
  {
   "cell_type": "code",
   "execution_count": 14,
   "metadata": {},
   "outputs": [
    {
     "data": {
      "application/vnd.jupyter.widget-view+json": {
       "model_id": "5cebeb052b0d427fb4dc94d996022647",
       "version_major": 2,
       "version_minor": 0
      },
      "text/plain": [
       "Turtle()"
      ]
     },
     "metadata": {},
     "output_type": "display_data"
    }
   ],
   "source": [
    "t = Turtle()"
   ]
  },
  {
   "cell_type": "code",
   "execution_count": null,
   "metadata": {},
   "outputs": [],
   "source": [
    "# describe in your words what the below code is doing:\n",
    "\n",
    "# what kinds of vaiables are being used\n",
    "\n",
    "# what is the value of basket size\n",
    "\n",
    "\n",
    "fruit_basket = ['orange', 'apple', 'orange', 'cherry']\n",
    "\n",
    "basket_size = len(fruit_basket)\n",
    "\n",
    "num_oranges = 0\n",
    "\n",
    "index = 0\n",
    "\n",
    "# Write a loop to count number of oranges in the fruit_basket\n",
    "\n",
    "\n",
    "\n",
    "\n",
    "\n",
    "\n",
    "\n",
    "\n",
    "\n",
    "\n",
    "\n",
    "\n",
    "\n",
    "\n",
    "\n",
    "********************************************************************************************\n",
    "Q-2\n",
    "coin_flips = ['heads', 'tails', 'heads', 'heads', 'tails', 'heads', 'tails', 'heads', 'tails', 'heads']\n",
    "\n",
    "# assume that a writen loop counts the number of heads and tails in coin_flips and stores these in num_heads and num_tails respectively\n",
    "\n",
    "# Q2-1- Write code that stores the probability of heads and tails in prob_heads and prob_tails respectively\n",
    "\n",
    "\n",
    "\n",
    "\n",
    "\n",
    "\n",
    "\n",
    "# Q2-2- What is the out put of the following code, and justify your answer show how you get your answer\n",
    "\n",
    "\n",
    "if prob_heads < 0.25:\n",
    "    print('Looser!')\n",
    "elif prob_heads < 0.5:\n",
    "    print('Draw!')\n",
    "elif prob_heads < 0.75:\n",
    "    if prob_tails < 0.25:\n",
    "        print('You win $2')\n",
    "    elif prob_tails < 0.5:\n",
    "        print('You win $5')\n",
    "    else:\n",
    "        print('You win $10')\n",
    "else:\n",
    "    print('Jackpot!!!')\n",
    "    \n",
    "    \n",
    "    \n",
    "    \n",
    "\n",
    "********************************************************************************************\n",
    "\n",
    "def slice_list(List, start_idx, end_idx):\n",
    "    chunk = []\n",
    "     \n",
    "    # assume a loop fills the chunk list with the elemnt of List from start_idx to end_idx\n",
    "    \n",
    "    return chunk\n",
    "\n",
    "\n",
    "\n",
    "numbers = ['one', 'two', 'three', 'four', 'five', 'six', 'seven', 'eight', 'nine', 'ten']\n",
    "\n",
    "\n",
    "\n",
    "\n",
    "# Q-3-1: Answer the following questions based on the below call to slice_list function\n",
    "\n",
    "sliced_number = slice_list(numbers, 1, 5)\n",
    "\n",
    "\n",
    "# Q-3-1-1 What are the vlues of List, start_idx, and end_idx whithin slice_list function\n",
    "List = \n",
    "\n",
    "start_idx =\n",
    "\n",
    "end_idx = \n",
    "\n",
    "\n",
    "\n",
    "\n",
    "\n",
    "# Q-3-1-2 when slice_list function is returning what is the value of chunk\n",
    "\n",
    "\n",
    "\n",
    "\n",
    "\n",
    "# Q-3-1-3 what is the value of sliced_number\n",
    "\n",
    "\n",
    "\n",
    "\n",
    "# Q-3-2: Answer the following questions based on the below call to slice_list function\n",
    "\n",
    "sliced_number = slice_list(numbers, 7, 7)\n",
    "\n",
    "# Q-3-2-1 What are the vlues of List, start_idx, and end_idx whithin slice_list function\n",
    "List = \n",
    "\n",
    "start_idx =\n",
    "\n",
    "end_idx = \n",
    "\n",
    "\n",
    "\n",
    "\n",
    "\n",
    "# Q-3-2-2 when slice_list function is returning what is the value of chunk\n",
    "\n",
    "\n",
    "\n",
    "\n",
    "\n",
    "# Q-3-2-3 what is the value of sliced_number\n",
    "\n",
    "\n",
    "\n",
    "\n",
    "\n",
    "\n",
    "\n",
    "\n",
    "\n",
    "\n",
    "\n",
    "\n",
    "\n",
    "\n",
    "\n",
    "\n",
    "\n",
    "\n",
    "\n",
    "\n",
    "\n",
    "\n",
    "\n",
    "\n",
    "\n",
    "\n"
   ]
  },
  {
   "cell_type": "code",
   "execution_count": null,
   "metadata": {},
   "outputs": [],
   "source": [
    "Assume we have 1000 list and we want to check"
   ]
  }
 ],
 "metadata": {
  "kernelspec": {
   "display_name": "Python 3",
   "language": "python",
   "name": "python3"
  },
  "language_info": {
   "codemirror_mode": {
    "name": "ipython",
    "version": 3
   },
   "file_extension": ".py",
   "mimetype": "text/x-python",
   "name": "python",
   "nbconvert_exporter": "python",
   "pygments_lexer": "ipython3",
   "version": "3.6.5"
  }
 },
 "nbformat": 4,
 "nbformat_minor": 2
}
