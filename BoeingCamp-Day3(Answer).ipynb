{
 "cells": [
  {
   "cell_type": "markdown",
   "metadata": {},
   "source": [
    "<img src=\"files/images/WSU-Central_Social-Badge.png\">",
    "\n",
    "\n",
    "# Boeing Programming Camp\n",
    "\n",
    "### Day 3\n",
    "\n",
    "In this lecture we will build out multiple functions to answer some algebra questions.\n",
    "\n",
    "Keep in mind that no single lecture (or course!) can teach you how to code. We weould highly suggest reading [How to Think Like a Computer Scientist: Learning with Python 3 Documentation](https://media.readthedocs.org/pdf/howtothink/latest/howtothink.pdf) textbook for more information!"
   ]
  },
  {
   "cell_type": "code",
   "execution_count": 1,
   "metadata": {},
   "outputs": [],
   "source": [
    "import numpy\n",
    "from mobilechelonian import Turtle"
   ]
  },
  {
   "cell_type": "markdown",
   "metadata": {},
   "source": [
    "### Problem-1"
   ]
  },
  {
   "cell_type": "markdown",
   "metadata": {},
   "source": [
    "Imagine you are a teacher and you give an exam to 100 students. It will be tedious to check all answers by hand. However, you know how to code. Write a function to check answers of multiplication, addition, subtraction, and division. Your function should get four inputs (number-1, number-2, functions(+,-,x,/), answer). Your function returns True when the answer is right and False when the answer is wrong.\n",
    "\n"
   ]
  },
  {
   "cell_type": "code",
   "execution_count": 8,
   "metadata": {},
   "outputs": [],
   "source": [
    "def check_ans(n1, n2, functions, ans):\n",
    "    corr_ans = 0\n",
    "    if functions == '+':\n",
    "        corr_ans = n1+n2\n",
    "    elif functions == '-':\n",
    "        corr_ans = n1-n2\n",
    "    elif functions == '*':\n",
    "        corr_ans = n1*n2\n",
    "    elif functions == '/':\n",
    "        corr_ans = n1/n2\n",
    "    else:\n",
    "        print('ERROR: not a valid function')\n",
    "    \n",
    "    if corr_ans == ans:\n",
    "        print('Correct!')\n",
    "    else:\n",
    "        print('Wrong!')"
   ]
  },
  {
   "cell_type": "code",
   "execution_count": 9,
   "metadata": {},
   "outputs": [
    {
     "name": "stdout",
     "output_type": "stream",
     "text": [
      "Correct!\n"
     ]
    }
   ],
   "source": [
    "check_ans(2234, 4563, '+', 6797)"
   ]
  },
  {
   "cell_type": "code",
   "execution_count": 10,
   "metadata": {},
   "outputs": [
    {
     "name": "stdout",
     "output_type": "stream",
     "text": [
      "Correct!\n"
     ]
    }
   ],
   "source": [
    "check_ans(32, 4, '*', 128)"
   ]
  },
  {
   "cell_type": "code",
   "execution_count": 11,
   "metadata": {},
   "outputs": [
    {
     "name": "stdout",
     "output_type": "stream",
     "text": [
      "Wrong!\n"
     ]
    }
   ],
   "source": [
    "check_ans(7352, 454, '-', 1278)"
   ]
  },
  {
   "cell_type": "code",
   "execution_count": 12,
   "metadata": {},
   "outputs": [
    {
     "name": "stdout",
     "output_type": "stream",
     "text": [
      "Wrong!\n"
     ]
    }
   ],
   "source": [
    "check_ans(632, 12, '/', 51)"
   ]
  },
  {
   "cell_type": "code",
   "execution_count": 13,
   "metadata": {},
   "outputs": [
    {
     "name": "stdout",
     "output_type": "stream",
     "text": [
      "ERROR: not a valid function\n",
      "Wrong!\n"
     ]
    }
   ],
   "source": [
    "check_ans(34, 45, '$', 43)"
   ]
  },
  {
   "cell_type": "markdown",
   "metadata": {},
   "source": [
    "### <font color='orange'> Note: We could not finish problem 1 and 2 because of time. Hopefully we do it later </font>"
   ]
  },
  {
   "cell_type": "markdown",
   "metadata": {},
   "source": [
    "### Problem-2"
   ]
  },
  {
   "cell_type": "markdown",
   "metadata": {},
   "source": [
    "Write a function to return hundreds, tens, and ones of a three digit number. For example, for 345, your function should return:\n",
    "\n",
    "hundereds = 3\n",
    "\n",
    "tens = 4\n",
    "\n",
    "ones = 5"
   ]
  },
  {
   "cell_type": "code",
   "execution_count": 14,
   "metadata": {},
   "outputs": [
    {
     "ename": "SyntaxError",
     "evalue": "unexpected EOF while parsing (<ipython-input-14-13c31125296d>, line 6)",
     "output_type": "error",
     "traceback": [
      "\u001b[0;36m  File \u001b[0;32m\"<ipython-input-14-13c31125296d>\"\u001b[0;36m, line \u001b[0;32m6\u001b[0m\n\u001b[0;31m    \u001b[0m\n\u001b[0m    ^\u001b[0m\n\u001b[0;31mSyntaxError\u001b[0m\u001b[0;31m:\u001b[0m unexpected EOF while parsing\n"
     ]
    }
   ],
   "source": [
    "def decompose(x):\n",
    "        \n",
    "        \n",
    "        \n",
    "        \n",
    "        "
   ]
  },
  {
   "cell_type": "code",
   "execution_count": null,
   "metadata": {},
   "outputs": [],
   "source": [
    "decompose(123)"
   ]
  },
  {
   "cell_type": "code",
   "execution_count": null,
   "metadata": {},
   "outputs": [],
   "source": [
    "decompose(345)"
   ]
  },
  {
   "cell_type": "code",
   "execution_count": null,
   "metadata": {},
   "outputs": [],
   "source": [
    "decompose(981)"
   ]
  },
  {
   "cell_type": "markdown",
   "metadata": {},
   "source": [
    "### Problem-3"
   ]
  },
  {
   "cell_type": "markdown",
   "metadata": {},
   "source": [
    "\n",
    "Write a function to transfer a four digit number to the nearest thousand. For example, the nearest thousand of 3874 is 4000 and the nearest ten thousend of 3146 is 3000\n"
   ]
  },
  {
   "cell_type": "code",
   "execution_count": null,
   "metadata": {},
   "outputs": [],
   "source": [
    "def make_round(n):\n",
    "\n",
    "\n",
    "\n",
    "\n",
    "\n",
    "\n",
    "\n",
    "\n",
    "    \n",
    "    \n",
    "    \n",
    "    "
   ]
  },
  {
   "cell_type": "code",
   "execution_count": null,
   "metadata": {},
   "outputs": [],
   "source": [
    "make_round(2349)"
   ]
  },
  {
   "cell_type": "code",
   "execution_count": null,
   "metadata": {},
   "outputs": [],
   "source": [
    "make_round(4589)"
   ]
  },
  {
   "cell_type": "code",
   "execution_count": null,
   "metadata": {},
   "outputs": [],
   "source": [
    "make_round(829)"
   ]
  },
  {
   "cell_type": "markdown",
   "metadata": {},
   "source": [
    "## Snack Time !!!\n",
    "\n",
    "<img src=\"files/images/18.jpeg\">"
   ]
  },
  {
   "cell_type": "markdown",
   "metadata": {},
   "source": [
    "##  Our first turtle program"
   ]
  },
  {
   "cell_type": "code",
   "execution_count": 2,
   "metadata": {},
   "outputs": [
    {
     "data": {
      "application/vnd.jupyter.widget-view+json": {
       "model_id": "12b9f5c870fd48ad9d04f68d125f00bb",
       "version_major": 2,
       "version_minor": 0
      },
      "text/plain": [
       "Turtle()"
      ]
     },
     "metadata": {},
     "output_type": "display_data"
    }
   ],
   "source": [
    "alex = Turtle()  # Create a turtle, assign to alex\n",
    "alex.forward(50)        # Tell alex to move forward by 50 units\n",
    "alex.left(90)           # Tell alex to turn by 90 degrees\n",
    "alex.forward(30)        # Complete the second side of a rectangle"
   ]
  },
  {
   "cell_type": "code",
   "execution_count": 3,
   "metadata": {},
   "outputs": [
    {
     "data": {
      "application/vnd.jupyter.widget-view+json": {
       "model_id": "073f5842faae451cb1a776a9a506439e",
       "version_major": 2,
       "version_minor": 0
      },
      "text/plain": [
       "Turtle()"
      ]
     },
     "metadata": {},
     "output_type": "display_data"
    }
   ],
   "source": [
    "jake = Turtle()  # Create a turtle, assign to jake\n",
    "jake.pencolor(\"red\")\n",
    "jake.forward(50)        # Tell alex to move forward by 50 units\n",
    "jake.right(90)           # Tell alex to turn by 90 degrees"
   ]
  },
  {
   "cell_type": "code",
   "execution_count": 4,
   "metadata": {},
   "outputs": [
    {
     "data": {
      "application/vnd.jupyter.widget-view+json": {
       "model_id": "e67ba93da0f441cc97dfadfb5d6e81d9",
       "version_major": 2,
       "version_minor": 0
      },
      "text/plain": [
       "Turtle()"
      ]
     },
     "metadata": {},
     "output_type": "display_data"
    }
   ],
   "source": [
    "t = Turtle()\n",
    "t.speed(5)\n",
    "colours=[\"red\",\"blue\",\"yellow\",\"brown\",\"black\",\"purple\",\"green\"]\n",
    "t.penup(); t.left(90); t.forward(200);t.right(90);t.pendown()\n",
    "\n",
    "n = 0\n",
    "while n < 18:\n",
    "    t.pencolor(colours[n%7])\n",
    "    t.right(20)\n",
    "    t.forward(50)\n",
    "    n = n+1\n",
    "\n",
    "t.right(180)\n",
    "t.home()"
   ]
  },
  {
   "cell_type": "code",
   "execution_count": 5,
   "metadata": {},
   "outputs": [
    {
     "data": {
      "application/vnd.jupyter.widget-view+json": {
       "model_id": "a609b5a4e480430aa0e2d0823c7dd355",
       "version_major": 2,
       "version_minor": 0
      },
      "text/plain": [
       "Turtle()"
      ]
     },
     "metadata": {},
     "output_type": "display_data"
    }
   ],
   "source": [
    "def draw_multicolor_square(animal, size):\n",
    "    \"\"\"Make animal draw a multi-color square of given size.\"\"\"\n",
    "    for color in[\"red\", \"purple\", \"hotpink\", \"blue\"]:\n",
    "        animal.pencolor(color)\n",
    "        animal.forward(size)\n",
    "        animal.left(90)\n",
    "        \n",
    "tess = Turtle()\n",
    "tess.speed(5)\n",
    "size = 20       # Size of the smallest square\n",
    "n = 0\n",
    "while n < 15:\n",
    "    draw_multicolor_square(tess, size)    \n",
    "    size += 10       # Increase the size for next time\n",
    "    tess.forward(10)    # Move tess along a little\n",
    "    tess.right(18)      # and give her some turn\n",
    "    n = n + 1\n",
    "    "
   ]
  },
  {
   "cell_type": "markdown",
   "metadata": {},
   "source": [
    "### Problem-4\n",
    "\n",
    "Try to make this shape.\n",
    "\n",
    "<img src=\"files/images/19.png\">"
   ]
  },
  {
   "cell_type": "code",
   "execution_count": 23,
   "metadata": {},
   "outputs": [
    {
     "ename": "SyntaxError",
     "evalue": "invalid syntax (<ipython-input-23-47a00498ce42>, line 1)",
     "output_type": "error",
     "traceback": [
      "\u001b[0;36m  File \u001b[0;32m\"<ipython-input-23-47a00498ce42>\"\u001b[0;36m, line \u001b[0;32m1\u001b[0m\n\u001b[0;31m    360 /\u001b[0m\n\u001b[0m          ^\u001b[0m\n\u001b[0;31mSyntaxError\u001b[0m\u001b[0;31m:\u001b[0m invalid syntax\n"
     ]
    }
   ],
   "source": [
    "360 / "
   ]
  },
  {
   "cell_type": "code",
   "execution_count": 26,
   "metadata": {},
   "outputs": [
    {
     "data": {
      "application/vnd.jupyter.widget-view+json": {
       "model_id": "30d45ff477564a0f8d2352e56dfe2b62",
       "version_major": 2,
       "version_minor": 0
      },
      "text/plain": [
       "Turtle()"
      ]
     },
     "metadata": {},
     "output_type": "display_data"
    }
   ],
   "source": [
    "chris = Turtle()\n",
    "chris.speed(10)\n",
    "size = 20       # Size of the smallest square\n",
    "\n",
    "n = 0\n",
    "\n",
    "degree = 20\n",
    "line_len = 100\n",
    "\n",
    "while n < 17:\n",
    "    chris.forward(line_len)\n",
    "    chris.right(90)\n",
    "    chris.forward(line_len)\n",
    "    chris.right(90)\n",
    "    chris.forward(line_len)\n",
    "    chris.right(90)\n",
    "    chris.forward(line_len)\n",
    "    chris.right(5)\n",
    "    n +=1\n",
    "    \n",
    "    \n",
    "\n",
    "\n",
    "\n",
    "\n",
    "\n",
    "\n",
    "\n",
    "\n",
    "\n",
    "\n",
    "\n",
    "\n",
    "\n",
    "\n",
    "\n",
    "\n",
    "\n",
    "\n",
    "\n",
    "\n",
    "\n",
    "\n",
    "\n",
    "\n"
   ]
  },
  {
   "cell_type": "markdown",
   "metadata": {},
   "source": [
    "### Problem-5\n",
    "\n",
    "Try to make one of these two shapes. If you have time make both.\n",
    "\n",
    "<img src=\"files/images/20.png\">"
   ]
  },
  {
   "cell_type": "code",
   "execution_count": 33,
   "metadata": {},
   "outputs": [
    {
     "data": {
      "application/vnd.jupyter.widget-view+json": {
       "model_id": "a2b3a03cd9304bab8b4b223f33e4ff8b",
       "version_major": 2,
       "version_minor": 0
      },
      "text/plain": [
       "Turtle()"
      ]
     },
     "metadata": {},
     "output_type": "display_data"
    }
   ],
   "source": [
    "kam = Turtle()\n",
    "kam.speed(20)\n",
    "\n",
    "line_len = 10\n",
    "n = 0\n",
    "\n",
    "\n",
    "while n < 20:\n",
    "    kam.forward(line_len)\n",
    "    kam.right(90)\n",
    "    line_len += 10\n",
    "    n += 1\n",
    "\n",
    "\n",
    "\n",
    "\n",
    "\n",
    "\n",
    "\n",
    "\n",
    "\n",
    "\n",
    "\n",
    "\n",
    "\n",
    "\n",
    "\n",
    "\n",
    "\n",
    "\n",
    "\n"
   ]
  },
  {
   "cell_type": "code",
   "execution_count": 38,
   "metadata": {},
   "outputs": [
    {
     "data": {
      "application/vnd.jupyter.widget-view+json": {
       "model_id": "e8a4c6395bf443cf90f21c5f79658527",
       "version_major": 2,
       "version_minor": 0
      },
      "text/plain": [
       "Turtle()"
      ]
     },
     "metadata": {},
     "output_type": "display_data"
    }
   ],
   "source": [
    "rob = Turtle()\n",
    "rob.speed(20)\n",
    "\n",
    "line_len = 5\n",
    "n = 0\n",
    "\n",
    "\n",
    "while n < 50:\n",
    "    rob.right(1)\n",
    "    rob.forward(line_len)\n",
    "    rob.right(90)\n",
    "    line_len += 5\n",
    "    n += 1"
   ]
  },
  {
   "cell_type": "code",
   "execution_count": 39,
   "metadata": {},
   "outputs": [],
   "source": [
    "n = 133"
   ]
  },
  {
   "cell_type": "code",
   "execution_count": 40,
   "metadata": {},
   "outputs": [],
   "source": [
    "x  = str(n)"
   ]
  },
  {
   "cell_type": "code",
   "execution_count": 41,
   "metadata": {},
   "outputs": [
    {
     "data": {
      "text/plain": [
       "'1'"
      ]
     },
     "execution_count": 41,
     "metadata": {},
     "output_type": "execute_result"
    }
   ],
   "source": [
    "x[0]"
   ]
  },
  {
   "cell_type": "code",
   "execution_count": 42,
   "metadata": {},
   "outputs": [
    {
     "data": {
      "text/plain": [
       "'3'"
      ]
     },
     "execution_count": 42,
     "metadata": {},
     "output_type": "execute_result"
    }
   ],
   "source": [
    "x[1]"
   ]
  },
  {
   "cell_type": "code",
   "execution_count": null,
   "metadata": {},
   "outputs": [],
   "source": []
  }
 ],
 "metadata": {
  "kernelspec": {
   "display_name": "Python 3",
   "language": "python",
   "name": "python3"
  },
  "language_info": {
   "codemirror_mode": {
    "name": "ipython",
    "version": 3
   },
   "file_extension": ".py",
   "mimetype": "text/x-python",
   "name": "python",
   "nbconvert_exporter": "python",
   "pygments_lexer": "ipython3",
   "version": "3.6.8"
  }
 },
 "nbformat": 4,
 "nbformat_minor": 2
}
